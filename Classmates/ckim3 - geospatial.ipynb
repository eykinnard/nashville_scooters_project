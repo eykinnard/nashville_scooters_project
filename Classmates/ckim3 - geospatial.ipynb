{
 "cells": [
  {
   "cell_type": "markdown",
   "id": "3a1aaad1",
   "metadata": {},
   "source": [
    "5. SUMDs can provide alternative transportation and provide \"last mile\" access to public transit. How often are trips starting near public transit hubs? You can download a dataset of bus stop locations from https://data.nashville.gov/Transportation/Regional-Transportation-Authority-Bus-Stops/p886-fnbd."
   ]
  },
  {
   "cell_type": "code",
   "execution_count": null,
   "id": "093bbc77",
   "metadata": {
    "scrolled": true
   },
   "outputs": [],
   "source": [
    "from shapely.geometry import Polygon, Point\n",
    "import pandas as pd\n",
    "import matplotlib.pyplot as plt\n",
    "import folium\n",
    "from folium.plugins import MarkerCluster\n",
    "from folium.plugins import FastMarkerCluster"
   ]
  },
  {
   "cell_type": "code",
   "execution_count": null,
   "id": "04f614e0",
   "metadata": {},
   "outputs": [],
   "source": [
    "import geopandas as gpd"
   ]
  },
  {
   "cell_type": "code",
   "execution_count": null,
   "id": "23e46db7",
   "metadata": {},
   "outputs": [],
   "source": [
    "gpd.show_versions()"
   ]
  },
  {
   "cell_type": "code",
   "execution_count": null,
   "id": "222419e7",
   "metadata": {},
   "outputs": [],
   "source": [
    "zipcodes = gpd.read_file('../Data/zipcodes.geojson')"
   ]
  },
  {
   "cell_type": "code",
   "execution_count": null,
   "id": "d50fa9ee",
   "metadata": {},
   "outputs": [],
   "source": [
    "zipcodes.plot()"
   ]
  },
  {
   "cell_type": "code",
   "execution_count": null,
   "id": "f444a7c6",
   "metadata": {},
   "outputs": [],
   "source": [
    "scoot_trips = gpd.read_file('../Data/scooters_trips_clean.csv')"
   ]
  },
  {
   "cell_type": "code",
   "execution_count": null,
   "id": "066fb445",
   "metadata": {},
   "outputs": [],
   "source": [
    "scoot_trips['geometry'] = scoot_trips.apply(lambda x: Point((float(x.startlongitude), float(x.startlatitude))), axis = 1)\n",
    "\n",
    "scoot_trips.head()"
   ]
  },
  {
   "cell_type": "code",
   "execution_count": null,
   "id": "f766874f",
   "metadata": {},
   "outputs": [],
   "source": [
    "scoot_geo = gpd.GeoDataFrame(scoot_trips, \n",
    "                           crs = zipcodes.crs, \n",
    "                           geometry = scoot_trips['geometry'])"
   ]
  },
  {
   "cell_type": "code",
   "execution_count": null,
   "id": "9df5ec8d",
   "metadata": {},
   "outputs": [],
   "source": [
    "bus_stops = gpd.read_file('../Data/busstops_cleaned.csv')"
   ]
  },
  {
   "cell_type": "code",
   "execution_count": null,
   "id": "4e633a4e",
   "metadata": {},
   "outputs": [],
   "source": [
    "bus_stops['geometry'].nunique()"
   ]
  },
  {
   "cell_type": "code",
   "execution_count": null,
   "id": "8dbaa4fa",
   "metadata": {},
   "outputs": [],
   "source": [
    "bus_stops.apply(lambda x: Point((float(x.lng), float(x.lat))), axis = 1)"
   ]
  },
  {
   "cell_type": "code",
   "execution_count": null,
   "id": "44c926e2",
   "metadata": {},
   "outputs": [],
   "source": [
    "bus_stops['geometry'] = bus_stops.apply(lambda x: Point((float(x.lng), \n",
    "                                                         float(x.lat))), \n",
    "                                        axis=1)"
   ]
  },
  {
   "cell_type": "code",
   "execution_count": null,
   "id": "d86b08c3",
   "metadata": {},
   "outputs": [],
   "source": [
    "bus_geo = gpd.GeoDataFrame(bus_stops, \n",
    "                           crs = zipcodes.crs, \n",
    "                           geometry = bus_stops['geometry'])"
   ]
  },
  {
   "cell_type": "code",
   "execution_count": null,
   "id": "a1be1bbd",
   "metadata": {},
   "outputs": [],
   "source": [
    "scoot_lil = scoot_geo['geometry'].reset_index()\n",
    "scoot_lil['type'] = 'scooter_origin'\n",
    "scoot_lil.rename(columns = {'index':'trip_num'}, inplace = True)\n",
    "\n",
    "scoot_lil.head()"
   ]
  },
  {
   "cell_type": "code",
   "execution_count": null,
   "id": "63c83841",
   "metadata": {},
   "outputs": [],
   "source": [
    "bus_lil = bus_geo['geometry'].reset_index()\n",
    "bus_lil['type'] = 'bus_stop'\n",
    "bus_lil.rename(columns = {'index':'trip_num'}, inplace = True)\n",
    "\n",
    "bus_lil.head()"
   ]
  },
  {
   "cell_type": "code",
   "execution_count": null,
   "id": "ef7b658d",
   "metadata": {},
   "outputs": [],
   "source": [
    "bus_scoot = pd.concat([scoot_lil, bus_lil])"
   ]
  },
  {
   "cell_type": "code",
   "execution_count": null,
   "id": "e7aca83a",
   "metadata": {},
   "outputs": [],
   "source": [
    "zipcodes = zipcodes[['zip', 'po_name', 'geometry']]\n",
    "zipcodes.head()"
   ]
  },
  {
   "cell_type": "code",
   "execution_count": null,
   "id": "b2507898",
   "metadata": {},
   "outputs": [],
   "source": [
    "last_mile = gpd.sjoin(bus_scoot, zipcodes, predicate = 'within')"
   ]
  },
  {
   "cell_type": "code",
   "execution_count": null,
   "id": "3e71d67e",
   "metadata": {},
   "outputs": [],
   "source": [
    "last_mile.head()"
   ]
  },
  {
   "cell_type": "code",
   "execution_count": null,
   "id": "0d3550ea",
   "metadata": {
    "scrolled": false
   },
   "outputs": [],
   "source": [
    "ax = zipcodes.plot(figsize = (8,10), color = 'darkseagreen')\n",
    "last_mile.plot(ax = ax, column = 'type')\n",
    "plt.show();"
   ]
  },
  {
   "cell_type": "code",
   "execution_count": null,
   "id": "1cd7578d",
   "metadata": {},
   "outputs": [],
   "source": [
    "bus_geo.head()"
   ]
  },
  {
   "cell_type": "code",
   "execution_count": null,
   "id": "22799514",
   "metadata": {},
   "outputs": [],
   "source": [
    "bus_geo.head()"
   ]
  },
  {
   "cell_type": "code",
   "execution_count": null,
   "id": "efb8229f",
   "metadata": {},
   "outputs": [],
   "source": [
    "scoot_geo = scoot_geo.reset_index()"
   ]
  },
  {
   "cell_type": "code",
   "execution_count": null,
   "id": "01fc7bbd",
   "metadata": {},
   "outputs": [],
   "source": [
    "scoot_geo.rename(columns = {'index':'num'}, inplace = True)\n",
    "scoot_geo"
   ]
  },
  {
   "cell_type": "code",
   "execution_count": null,
   "id": "779a176e",
   "metadata": {},
   "outputs": [],
   "source": [
    "nearest = gpd.sjoin_nearest(scoot_geo.to_crs('EPSG:3395'), bus_geo.to_crs('EPSG:3395'), distance_col = 'distance')"
   ]
  },
  {
   "cell_type": "code",
   "execution_count": null,
   "id": "dd84e599",
   "metadata": {},
   "outputs": [],
   "source": [
    "nearest.head()"
   ]
  },
  {
   "cell_type": "code",
   "execution_count": null,
   "id": "46f526f8",
   "metadata": {},
   "outputs": [],
   "source": [
    "nearest['nearest_busstop'] = ''"
   ]
  },
  {
   "cell_type": "code",
   "execution_count": null,
   "id": "e752b868",
   "metadata": {},
   "outputs": [],
   "source": [
    "for row_value, row_index in nearest.iterrows():\n",
    "    if row_index['distance'] <= 402:\n",
    "        nearest.at[row_value,'nearest_busstop'] = '.25 mi'\n",
    "    if row_index['distance'] > 402 and row_index['distance'] < 804:\n",
    "        nearest.at[row_value,'nearest_busstop'] = '.25 - .5 mi'  \n",
    "    if row_index['distance'] > 804 and row_index['distance'] < 1206:\n",
    "        nearest.at[row_value,'nearest_busstop'] = '.5 - .75 mi'      \n",
    "    if row_index['distance'] > 804 and row_index['distance'] < 1609:\n",
    "        nearest.at[row_value,'nearest_busstop'] = '.75 - 1 mi'\n",
    "    if row_index['distance'] > 804 and row_index['distance'] >= 1609:\n",
    "        nearest.at[row_value,'nearest_busstop'] = '1+ mi'    "
   ]
  },
  {
   "cell_type": "code",
   "execution_count": null,
   "id": "5bdf58d2",
   "metadata": {},
   "outputs": [],
   "source": [
    "nearest.head()"
   ]
  },
  {
   "cell_type": "code",
   "execution_count": null,
   "id": "4bf83571",
   "metadata": {},
   "outputs": [],
   "source": [
    "near_transit = nearest['nearest_busstop'].value_counts().reset_index()"
   ]
  },
  {
   "cell_type": "code",
   "execution_count": null,
   "id": "8a622b2c",
   "metadata": {},
   "outputs": [],
   "source": [
    "near_transit.columns = 'transit_proximity','count_trips'\n",
    "near_transit"
   ]
  },
  {
   "cell_type": "code",
   "execution_count": null,
   "id": "acefb20a",
   "metadata": {},
   "outputs": [],
   "source": [
    "near_transit.plot(kind = 'bar', x = 'transit_proximity')\n",
    "plt.xlabel('Start Distance to Transit')\n",
    "plt.title('Distance to Public Transit from Scooter Trip Origin');"
   ]
  },
  {
   "cell_type": "code",
   "execution_count": null,
   "id": "3518b8d9",
   "metadata": {},
   "outputs": [],
   "source": []
  }
 ],
 "metadata": {
  "kernelspec": {
   "display_name": "Python 3 (ipykernel)",
   "language": "python",
   "name": "python3"
  },
  "language_info": {
   "codemirror_mode": {
    "name": "ipython",
    "version": 3
   },
   "file_extension": ".py",
   "mimetype": "text/x-python",
   "name": "python",
   "nbconvert_exporter": "python",
   "pygments_lexer": "ipython3",
   "version": "3.9.13"
  }
 },
 "nbformat": 4,
 "nbformat_minor": 5
}
