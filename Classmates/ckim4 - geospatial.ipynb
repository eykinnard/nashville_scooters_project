{
 "cells": [
  {
   "cell_type": "code",
   "execution_count": null,
   "id": "131a5685",
   "metadata": {},
   "outputs": [],
   "source": [
    "from shapely.geometry import Polygon, Point\n",
    "import pandas as pd\n",
    "import matplotlib.pyplot as plt\n",
    "import folium\n",
    "import geopandas as gpd\n",
    "from folium.plugins import MarkerCluster\n",
    "from folium.plugins import FastMarkerCluster\n",
    "%matplotlib inline"
   ]
  },
  {
   "cell_type": "code",
   "execution_count": null,
   "id": "96769185",
   "metadata": {},
   "outputs": [],
   "source": [
    "zipcodes = gpd.read_file('../Data/zipcodes.geojson')"
   ]
  },
  {
   "cell_type": "code",
   "execution_count": null,
   "id": "6e62cb42",
   "metadata": {},
   "outputs": [],
   "source": [
    "zipcodes.plot();"
   ]
  },
  {
   "cell_type": "code",
   "execution_count": null,
   "id": "7646931d",
   "metadata": {},
   "outputs": [],
   "source": [
    "rta = gpd.read_file('../Data/Regional_Transportation_Authority_Bus_Stops.csv')"
   ]
  },
  {
   "cell_type": "code",
   "execution_count": null,
   "id": "0018b47a",
   "metadata": {},
   "outputs": [],
   "source": [
    "scoot_trips = gpd.read_file('../Data/scooters_trips_clean.csv')"
   ]
  },
  {
   "cell_type": "code",
   "execution_count": null,
   "id": "1c1013cc",
   "metadata": {},
   "outputs": [],
   "source": [
    "scoot_trips.describe()"
   ]
  },
  {
   "cell_type": "code",
   "execution_count": null,
   "id": "4fb98d6b",
   "metadata": {},
   "outputs": [],
   "source": [
    "scoot_trips.info()"
   ]
  },
  {
   "cell_type": "code",
   "execution_count": null,
   "id": "9885c0e1",
   "metadata": {},
   "outputs": [],
   "source": [
    "scoot_trips['geometry'] = scoot_trips.apply(lambda x: Point((float(x.startlongitude), float(x.startlatitude))), axis = 1)\n",
    "\n",
    "scoot_trips.head()"
   ]
  },
  {
   "cell_type": "code",
   "execution_count": null,
   "id": "368e5719",
   "metadata": {},
   "outputs": [],
   "source": [
    "scoot_geo = gpd.GeoDataFrame(scoot_trips, \n",
    "                           crs = zipcodes.crs, \n",
    "                           geometry = scoot_trips['geometry'])"
   ]
  },
  {
   "cell_type": "code",
   "execution_count": null,
   "id": "021e0702",
   "metadata": {},
   "outputs": [],
   "source": [
    "scoot_by_zip = gpd.sjoin(scoot_geo, zipcodes, predicate = 'within')"
   ]
  },
  {
   "cell_type": "code",
   "execution_count": null,
   "id": "14c2b626",
   "metadata": {},
   "outputs": [],
   "source": [
    "scoot_by_zip.head()"
   ]
  },
  {
   "cell_type": "code",
   "execution_count": null,
   "id": "22e08a2d",
   "metadata": {},
   "outputs": [],
   "source": [
    "scoot_zip_count = scoot_by_zip['zip'].value_counts()"
   ]
  },
  {
   "cell_type": "code",
   "execution_count": null,
   "id": "c0652a5b",
   "metadata": {},
   "outputs": [],
   "source": [
    "scoot_zip_count = scoot_zip_count.reset_index()"
   ]
  },
  {
   "cell_type": "code",
   "execution_count": null,
   "id": "a12dd25f",
   "metadata": {},
   "outputs": [],
   "source": [
    "scoot_zip_count.columns = ['zip','scoot_trips']"
   ]
  },
  {
   "cell_type": "code",
   "execution_count": null,
   "id": "346e6cf6",
   "metadata": {},
   "outputs": [],
   "source": [
    "bus_stops = pd.read_csv('../data/busstops_cleaned.csv')\n",
    "print(bus_stops.shape)\n",
    "bus_stops.head(3)"
   ]
  },
  {
   "cell_type": "code",
   "execution_count": null,
   "id": "a36e8e82",
   "metadata": {},
   "outputs": [],
   "source": [
    "bus_stops.apply(lambda x: Point((float(x.lng), float(x.lat))), axis = 1)"
   ]
  },
  {
   "cell_type": "code",
   "execution_count": null,
   "id": "0427714d",
   "metadata": {},
   "outputs": [],
   "source": [
    "bus_stops['geometry'] = bus_stops.apply(lambda x: Point((float(x.lng), \n",
    "                                                         float(x.lat))), \n",
    "                                        axis=1)\n",
    "bus_stops.head(3)"
   ]
  },
  {
   "cell_type": "code",
   "execution_count": null,
   "id": "58e0409e",
   "metadata": {},
   "outputs": [],
   "source": [
    "bus_geo = gpd.GeoDataFrame(bus_stops, \n",
    "                           crs = zipcodes.crs, \n",
    "                           geometry = bus_stops['geometry'])"
   ]
  },
  {
   "cell_type": "code",
   "execution_count": null,
   "id": "63ea35cd",
   "metadata": {},
   "outputs": [],
   "source": [
    "type(bus_geo)"
   ]
  },
  {
   "cell_type": "code",
   "execution_count": null,
   "id": "51c8216f",
   "metadata": {
    "scrolled": true
   },
   "outputs": [],
   "source": [
    "zipcodes = zipcodes[['zip', 'po_name', 'geometry']]"
   ]
  },
  {
   "cell_type": "code",
   "execution_count": null,
   "id": "1910664d",
   "metadata": {},
   "outputs": [],
   "source": [
    "zipcodes"
   ]
  },
  {
   "cell_type": "code",
   "execution_count": null,
   "id": "8df986d5",
   "metadata": {},
   "outputs": [],
   "source": [
    "stops_by_zip = gpd.sjoin(bus_geo, zipcodes, predicate = 'within')"
   ]
  },
  {
   "cell_type": "code",
   "execution_count": null,
   "id": "7272b93d",
   "metadata": {},
   "outputs": [],
   "source": [
    "stops_by_zip.head()"
   ]
  },
  {
   "cell_type": "code",
   "execution_count": null,
   "id": "47e662ff",
   "metadata": {},
   "outputs": [],
   "source": [
    "stop_zip_count = stops_by_zip['zip'].value_counts()\n",
    "stop_zip_count = stop_zip_count.reset_index()"
   ]
  },
  {
   "cell_type": "code",
   "execution_count": null,
   "id": "b9c2f06f",
   "metadata": {},
   "outputs": [],
   "source": [
    "stop_zip_count.columns = ['zip','bus_stops']"
   ]
  },
  {
   "cell_type": "code",
   "execution_count": null,
   "id": "a2978c04",
   "metadata": {},
   "outputs": [],
   "source": [
    "zip_counts = pd.merge(scoot_zip_count, stop_zip_count, on = 'zip', how = 'outer')\n",
    "zip_counts['scoot_trips per bus_stop'] = round(zip_counts.scoot_trips / zip_counts.bus_stops)\n",
    "zip_counts"
   ]
  },
  {
   "cell_type": "code",
   "execution_count": null,
   "id": "2a70b207",
   "metadata": {},
   "outputs": [],
   "source": [
    "type(zip_counts)"
   ]
  },
  {
   "cell_type": "code",
   "execution_count": null,
   "id": "699d958d",
   "metadata": {},
   "outputs": [],
   "source": [
    "zip2 = pd.merge(zipcodes, zip_counts, on = 'zip', how = 'outer')"
   ]
  },
  {
   "cell_type": "code",
   "execution_count": null,
   "id": "f4fc6eb8",
   "metadata": {},
   "outputs": [],
   "source": []
  },
  {
   "cell_type": "code",
   "execution_count": null,
   "id": "5943060a",
   "metadata": {},
   "outputs": [],
   "source": [
    "zip_counts.to_csv('../Data/zip_counts.csv')"
   ]
  },
  {
   "cell_type": "code",
   "execution_count": null,
   "id": "9b96e5d0",
   "metadata": {},
   "outputs": [],
   "source": [
    "zip2.to_csv('../Data/zip2.csv')"
   ]
  },
  {
   "cell_type": "code",
   "execution_count": null,
   "id": "d05fb2bd",
   "metadata": {},
   "outputs": [],
   "source": [
    "zip2.head()"
   ]
  },
  {
   "cell_type": "code",
   "execution_count": null,
   "id": "cf96aa7e",
   "metadata": {},
   "outputs": [],
   "source": [
    "zip_counts.head()"
   ]
  },
  {
   "cell_type": "code",
   "execution_count": null,
   "id": "c65f3708",
   "metadata": {},
   "outputs": [],
   "source": []
  }
 ],
 "metadata": {
  "kernelspec": {
   "display_name": "Python 3 (ipykernel)",
   "language": "python",
   "name": "python3"
  },
  "language_info": {
   "codemirror_mode": {
    "name": "ipython",
    "version": 3
   },
   "file_extension": ".py",
   "mimetype": "text/x-python",
   "name": "python",
   "nbconvert_exporter": "python",
   "pygments_lexer": "ipython3",
   "version": "3.9.13"
  }
 },
 "nbformat": 4,
 "nbformat_minor": 5
}
