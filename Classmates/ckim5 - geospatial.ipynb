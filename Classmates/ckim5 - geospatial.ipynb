{
 "cells": [
  {
   "cell_type": "code",
   "execution_count": null,
   "id": "e2d4fe16",
   "metadata": {},
   "outputs": [],
   "source": [
    "from shapely.geometry import Polygon, Point\n",
    "import pandas as pd\n",
    "import geopandas as gpd\n",
    "import matplotlib.pyplot as plt\n",
    "import folium\n",
    "from folium.plugins import MarkerCluster\n",
    "from folium.plugins import FastMarkerCluster"
   ]
  },
  {
   "cell_type": "code",
   "execution_count": null,
   "id": "6e47feb6",
   "metadata": {},
   "outputs": [],
   "source": [
    "zipcodes = gpd.read_file('../Data/zipcodes.geojson')\n",
    "zipcodes.plot()"
   ]
  },
  {
   "cell_type": "code",
   "execution_count": null,
   "id": "701feb53",
   "metadata": {},
   "outputs": [],
   "source": [
    "scoot_trips = gpd.read_file('../Data/scooters_trips_clean.csv')"
   ]
  },
  {
   "cell_type": "code",
   "execution_count": null,
   "id": "4dc1cfcb",
   "metadata": {},
   "outputs": [],
   "source": [
    "scoot_trips['geometry'] = scoot_trips.apply(lambda x: Point((float(x.startlongitude), float(x.startlatitude))), axis = 1)\n",
    "\n",
    "scoot_trips.head()"
   ]
  },
  {
   "cell_type": "code",
   "execution_count": null,
   "id": "203677f6",
   "metadata": {},
   "outputs": [],
   "source": [
    "scoot_geo = gpd.GeoDataFrame(scoot_trips, \n",
    "                           crs = zipcodes.crs, \n",
    "                           geometry = scoot_trips['geometry'])"
   ]
  },
  {
   "cell_type": "code",
   "execution_count": null,
   "id": "f216f25e",
   "metadata": {},
   "outputs": [],
   "source": [
    "scoot_by_zip = gpd.sjoin(scoot_geo, zipcodes, predicate = 'within')"
   ]
  },
  {
   "cell_type": "code",
   "execution_count": null,
   "id": "f1cc025c",
   "metadata": {},
   "outputs": [],
   "source": [
    "scoot_by_zip.head()"
   ]
  },
  {
   "cell_type": "code",
   "execution_count": null,
   "id": "3d837e35",
   "metadata": {},
   "outputs": [],
   "source": [
    "scoot_zip_count = scoot_by_zip['zip'].value_counts()"
   ]
  },
  {
   "cell_type": "code",
   "execution_count": null,
   "id": "31ff42ed",
   "metadata": {},
   "outputs": [],
   "source": [
    "scoot_zip_count = scoot_zip_count.reset_index()"
   ]
  },
  {
   "cell_type": "code",
   "execution_count": null,
   "id": "d88ac8af",
   "metadata": {},
   "outputs": [],
   "source": [
    "scoot_zip_count.columns = ['zip','scoot_trips']"
   ]
  },
  {
   "cell_type": "code",
   "execution_count": null,
   "id": "b03eb66d",
   "metadata": {},
   "outputs": [],
   "source": [
    "scoot_zip_count"
   ]
  },
  {
   "cell_type": "code",
   "execution_count": null,
   "id": "db97c15e",
   "metadata": {},
   "outputs": [],
   "source": []
  }
 ],
 "metadata": {
  "kernelspec": {
   "display_name": "Python 3 (ipykernel)",
   "language": "python",
   "name": "python3"
  },
  "language_info": {
   "codemirror_mode": {
    "name": "ipython",
    "version": 3
   },
   "file_extension": ".py",
   "mimetype": "text/x-python",
   "name": "python",
   "nbconvert_exporter": "python",
   "pygments_lexer": "ipython3",
   "version": "3.9.13"
  }
 },
 "nbformat": 4,
 "nbformat_minor": 5
}
