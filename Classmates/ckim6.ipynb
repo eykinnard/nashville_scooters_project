{
 "cells": [
  {
   "cell_type": "code",
   "execution_count": null,
   "id": "ff08133e",
   "metadata": {},
   "outputs": [],
   "source": [
    "from shapely.geometry import Polygon, Point\n",
    "import pandas as pd\n",
    "import matplotlib.pyplot as plt\n",
    "import folium\n",
    "import geopandas as gpd\n",
    "from folium.plugins import MarkerCluster\n",
    "from folium.plugins import FastMarkerCluster\n",
    "%matplotlib inline"
   ]
  },
  {
   "cell_type": "code",
   "execution_count": null,
   "id": "384cbd49",
   "metadata": {},
   "outputs": [],
   "source": [
    "zipcodes = gpd.read_file('../Data/zipcodes.geojson')"
   ]
  },
  {
   "cell_type": "code",
   "execution_count": null,
   "id": "90f3c93b",
   "metadata": {},
   "outputs": [],
   "source": [
    "rta = gpd.read_file('../Data/Regional_Transportation_Authority_Bus_Stops.csv')"
   ]
  },
  {
   "cell_type": "code",
   "execution_count": null,
   "id": "e04c32c9",
   "metadata": {},
   "outputs": [],
   "source": [
    "rta.head()"
   ]
  },
  {
   "cell_type": "code",
   "execution_count": null,
   "id": "e6cfbe37",
   "metadata": {},
   "outputs": [],
   "source": [
    "rta['Mapped Location'].nunique()"
   ]
  },
  {
   "cell_type": "code",
   "execution_count": null,
   "id": "57ab972f",
   "metadata": {},
   "outputs": [],
   "source": [
    "mta = gpd.read_file('../Data/Metropolitan Transit Authority Bus Routes (GIS).geojson')"
   ]
  },
  {
   "cell_type": "code",
   "execution_count": null,
   "id": "be654f37",
   "metadata": {},
   "outputs": [],
   "source": [
    "mta['geometry'].nunique()"
   ]
  },
  {
   "cell_type": "code",
   "execution_count": null,
   "id": "e9b842cf",
   "metadata": {},
   "outputs": [],
   "source": [
    "mta.head()"
   ]
  },
  {
   "cell_type": "code",
   "execution_count": null,
   "id": "ca24b339",
   "metadata": {},
   "outputs": [],
   "source": []
  }
 ],
 "metadata": {
  "kernelspec": {
   "display_name": "Python 3 (ipykernel)",
   "language": "python",
   "name": "python3"
  },
  "language_info": {
   "codemirror_mode": {
    "name": "ipython",
    "version": 3
   },
   "file_extension": ".py",
   "mimetype": "text/x-python",
   "name": "python",
   "nbconvert_exporter": "python",
   "pygments_lexer": "ipython3",
   "version": "3.9.13"
  }
 },
 "nbformat": 4,
 "nbformat_minor": 5
}
