{
 "cells": [
  {
   "cell_type": "code",
   "execution_count": 1,
   "id": "b5de385d",
   "metadata": {},
   "outputs": [],
   "source": [
    "from shapely.geometry import Point\n",
    "import pandas as pd\n",
    "import numpy as np\n",
    "import geopandas as gpd\n",
    "import matplotlib.pyplot as plt\n",
    "import folium\n",
    "from folium.plugins import MarkerCluster\n",
    "from folium.plugins import FastMarkerCluster\n",
    "from math import sin,cos,sqrt, asin, radians\n"
   ]
  },
  {
   "cell_type": "code",
   "execution_count": 2,
   "id": "caeae2c3",
   "metadata": {},
   "outputs": [],
   "source": [
    "trips=pd.read_csv(r'C:\\Users\\Chris\\NSSFiles\\Python\\Projects\\nashville_scooters-panthers\\trips_clean.csv')"
   ]
  },
  {
   "cell_type": "code",
   "execution_count": 3,
   "id": "dc9d95de",
   "metadata": {
    "scrolled": false
   },
   "outputs": [],
   "source": [
    "# trips['geometry_start'] = trips.apply(lambda x: Point((float(x.startlongitude),\n",
    "#                                                 float(x.startlatitude))),\n",
    "#                                axis=1)\n",
    "# trips.head(3)"
   ]
  },
  {
   "cell_type": "code",
   "execution_count": 4,
   "id": "785ff66b",
   "metadata": {},
   "outputs": [],
   "source": [
    "# trips['geometry_end'] = trips.apply(lambda x: Point((float(x.endlongitude),\n",
    "#                                                 float(x.endlatitude))),\n",
    "#                                axis=1)\n",
    "# trips.head(3)"
   ]
  },
  {
   "cell_type": "code",
   "execution_count": 5,
   "id": "baed977d",
   "metadata": {
    "scrolled": true
   },
   "outputs": [
    {
     "data": {
      "text/plain": [
       "'0        -86.774700\\n1        -86.812000\\n2        -86.821000\\n3        -86.780100\\n4        -86.784900\\n            ...    \\n485217   -86.776118\\n485218   -86.783156\\n485219   -86.782424\\n485220   -86.797408\\n485221   -86.774665\\nName: startlongitude, Length: 485222, dtype: float64'"
      ]
     },
     "execution_count": 5,
     "metadata": {},
     "output_type": "execute_result"
    }
   ],
   "source": [
    "str(trips['startlongitude'])"
   ]
  },
  {
   "cell_type": "code",
   "execution_count": 6,
   "id": "4ee332eb",
   "metadata": {},
   "outputs": [
    {
     "data": {
      "text/plain": [
       "'0        -86.790500\\n1        -86.796500\\n2        -86.820900\\n3        -86.778900\\n4        -86.772800\\n            ...    \\n485217   -86.776930\\n485218   -86.769945\\n485219   -86.770052\\n485220   -86.781322\\n485221   -86.774464\\nName: endlongitude, Length: 485222, dtype: float64'"
      ]
     },
     "execution_count": 6,
     "metadata": {},
     "output_type": "execute_result"
    }
   ],
   "source": [
    "str(trips['endlongitude'])"
   ]
  },
  {
   "cell_type": "code",
   "execution_count": 7,
   "id": "0be66cbc",
   "metadata": {},
   "outputs": [],
   "source": [
    "# trips['start_loc']=trips.startlongitude.astype(str)+ \" , \" + trips.startlatitude.astype(str)"
   ]
  },
  {
   "cell_type": "code",
   "execution_count": 8,
   "id": "5d0ecf14",
   "metadata": {
    "scrolled": true
   },
   "outputs": [
    {
     "data": {
      "text/html": [
       "<div>\n",
       "<style scoped>\n",
       "    .dataframe tbody tr th:only-of-type {\n",
       "        vertical-align: middle;\n",
       "    }\n",
       "\n",
       "    .dataframe tbody tr th {\n",
       "        vertical-align: top;\n",
       "    }\n",
       "\n",
       "    .dataframe thead th {\n",
       "        text-align: right;\n",
       "    }\n",
       "</style>\n",
       "<table border=\"1\" class=\"dataframe\">\n",
       "  <thead>\n",
       "    <tr style=\"text-align: right;\">\n",
       "      <th></th>\n",
       "      <th>triptime_mins</th>\n",
       "      <th>pubtimestamp</th>\n",
       "      <th>companyname</th>\n",
       "      <th>triprecordnum</th>\n",
       "      <th>sumdid</th>\n",
       "      <th>tripduration</th>\n",
       "      <th>tripdistance</th>\n",
       "      <th>startdate</th>\n",
       "      <th>starttime</th>\n",
       "      <th>enddate</th>\n",
       "      <th>endtime</th>\n",
       "      <th>startlatitude</th>\n",
       "      <th>startlongitude</th>\n",
       "      <th>endlatitude</th>\n",
       "      <th>endlongitude</th>\n",
       "      <th>triproute</th>\n",
       "      <th>create_dt</th>\n",
       "    </tr>\n",
       "  </thead>\n",
       "  <tbody>\n",
       "    <tr>\n",
       "      <th>0</th>\n",
       "      <td>23</td>\n",
       "      <td>2019-07-05 00:52:15.427</td>\n",
       "      <td>Bird</td>\n",
       "      <td>BRD5038</td>\n",
       "      <td>PoweredJSUHU</td>\n",
       "      <td>23.0</td>\n",
       "      <td>10170.60400</td>\n",
       "      <td>2019-07-05</td>\n",
       "      <td>00:28:50.02</td>\n",
       "      <td>2019-07-05</td>\n",
       "      <td>00:52:15.836666</td>\n",
       "      <td>36.1569</td>\n",
       "      <td>-86.7747</td>\n",
       "      <td>36.1621</td>\n",
       "      <td>-86.7905</td>\n",
       "      <td>[(36.156982, -86.774668), (36.156982, -86.7746...</td>\n",
       "      <td>2019-07-06 05:30:29.1</td>\n",
       "    </tr>\n",
       "    <tr>\n",
       "      <th>1</th>\n",
       "      <td>17</td>\n",
       "      <td>2019-07-05 00:52:15.427</td>\n",
       "      <td>Bird</td>\n",
       "      <td>BRD5035</td>\n",
       "      <td>PoweredF6ICZ</td>\n",
       "      <td>17.0</td>\n",
       "      <td>11811.02400</td>\n",
       "      <td>2019-07-05</td>\n",
       "      <td>00:35:30.596666</td>\n",
       "      <td>2019-07-05</td>\n",
       "      <td>00:52:30.286666</td>\n",
       "      <td>36.1458</td>\n",
       "      <td>-86.8120</td>\n",
       "      <td>36.1511</td>\n",
       "      <td>-86.7965</td>\n",
       "      <td>[(36.145806, -86.811976), (36.145702, -86.8119...</td>\n",
       "      <td>2019-07-06 05:30:29.01</td>\n",
       "    </tr>\n",
       "    <tr>\n",
       "      <th>2</th>\n",
       "      <td>3</td>\n",
       "      <td>2019-07-05 01:57:17.87</td>\n",
       "      <td>Bird</td>\n",
       "      <td>BRD5200</td>\n",
       "      <td>PoweredWDDU6</td>\n",
       "      <td>3.0</td>\n",
       "      <td>331.36484</td>\n",
       "      <td>2019-07-05</td>\n",
       "      <td>01:54:14.993333</td>\n",
       "      <td>2019-07-05</td>\n",
       "      <td>01:57:20.093333</td>\n",
       "      <td>36.1550</td>\n",
       "      <td>-86.8210</td>\n",
       "      <td>36.1550</td>\n",
       "      <td>-86.8209</td>\n",
       "      <td>[(36.155046, -86.820902), (36.154976, -86.8210...</td>\n",
       "      <td>2019-07-06 05:30:33.017</td>\n",
       "    </tr>\n",
       "    <tr>\n",
       "      <th>3</th>\n",
       "      <td>49</td>\n",
       "      <td>2019-07-05 00:52:15.427</td>\n",
       "      <td>Bird</td>\n",
       "      <td>BRD5044</td>\n",
       "      <td>PoweredX7FAH</td>\n",
       "      <td>49.0</td>\n",
       "      <td>1968.50400</td>\n",
       "      <td>2019-07-05</td>\n",
       "      <td>00:03:49.11</td>\n",
       "      <td>2019-07-05</td>\n",
       "      <td>00:52:34.18</td>\n",
       "      <td>36.1649</td>\n",
       "      <td>-86.7801</td>\n",
       "      <td>36.1652</td>\n",
       "      <td>-86.7789</td>\n",
       "      <td>[(36.164985, -86.780082), (36.165047, -86.7798...</td>\n",
       "      <td>2019-07-06 05:30:29.31</td>\n",
       "    </tr>\n",
       "    <tr>\n",
       "      <th>4</th>\n",
       "      <td>21</td>\n",
       "      <td>2019-07-05 00:52:15.427</td>\n",
       "      <td>Bird</td>\n",
       "      <td>BRD5036</td>\n",
       "      <td>PoweredU6RIG</td>\n",
       "      <td>21.0</td>\n",
       "      <td>7217.84800</td>\n",
       "      <td>2019-07-05</td>\n",
       "      <td>00:32:45.483333</td>\n",
       "      <td>2019-07-05</td>\n",
       "      <td>00:53:37.836666</td>\n",
       "      <td>36.1521</td>\n",
       "      <td>-86.7849</td>\n",
       "      <td>36.1581</td>\n",
       "      <td>-86.7728</td>\n",
       "      <td>[(36.152248, -86.785001), (36.152092, -86.7845...</td>\n",
       "      <td>2019-07-06 05:30:29.04</td>\n",
       "    </tr>\n",
       "  </tbody>\n",
       "</table>\n",
       "</div>"
      ],
      "text/plain": [
       "   triptime_mins             pubtimestamp companyname triprecordnum  \\\n",
       "0             23  2019-07-05 00:52:15.427        Bird       BRD5038   \n",
       "1             17  2019-07-05 00:52:15.427        Bird       BRD5035   \n",
       "2              3   2019-07-05 01:57:17.87        Bird       BRD5200   \n",
       "3             49  2019-07-05 00:52:15.427        Bird       BRD5044   \n",
       "4             21  2019-07-05 00:52:15.427        Bird       BRD5036   \n",
       "\n",
       "         sumdid  tripduration  tripdistance   startdate        starttime  \\\n",
       "0  PoweredJSUHU          23.0   10170.60400  2019-07-05      00:28:50.02   \n",
       "1  PoweredF6ICZ          17.0   11811.02400  2019-07-05  00:35:30.596666   \n",
       "2  PoweredWDDU6           3.0     331.36484  2019-07-05  01:54:14.993333   \n",
       "3  PoweredX7FAH          49.0    1968.50400  2019-07-05      00:03:49.11   \n",
       "4  PoweredU6RIG          21.0    7217.84800  2019-07-05  00:32:45.483333   \n",
       "\n",
       "      enddate          endtime  startlatitude  startlongitude  endlatitude  \\\n",
       "0  2019-07-05  00:52:15.836666        36.1569        -86.7747      36.1621   \n",
       "1  2019-07-05  00:52:30.286666        36.1458        -86.8120      36.1511   \n",
       "2  2019-07-05  01:57:20.093333        36.1550        -86.8210      36.1550   \n",
       "3  2019-07-05      00:52:34.18        36.1649        -86.7801      36.1652   \n",
       "4  2019-07-05  00:53:37.836666        36.1521        -86.7849      36.1581   \n",
       "\n",
       "   endlongitude                                          triproute  \\\n",
       "0      -86.7905  [(36.156982, -86.774668), (36.156982, -86.7746...   \n",
       "1      -86.7965  [(36.145806, -86.811976), (36.145702, -86.8119...   \n",
       "2      -86.8209  [(36.155046, -86.820902), (36.154976, -86.8210...   \n",
       "3      -86.7789  [(36.164985, -86.780082), (36.165047, -86.7798...   \n",
       "4      -86.7728  [(36.152248, -86.785001), (36.152092, -86.7845...   \n",
       "\n",
       "                 create_dt  \n",
       "0    2019-07-06 05:30:29.1  \n",
       "1   2019-07-06 05:30:29.01  \n",
       "2  2019-07-06 05:30:33.017  \n",
       "3   2019-07-06 05:30:29.31  \n",
       "4   2019-07-06 05:30:29.04  "
      ]
     },
     "execution_count": 8,
     "metadata": {},
     "output_type": "execute_result"
    }
   ],
   "source": [
    "# trips['end_loc']=trips.endlongitude.astype(str)+ \" , \" + trips.endlatitude.astype(str)\n",
    "trips.head()"
   ]
  },
  {
   "cell_type": "code",
   "execution_count": 9,
   "id": "1213d843",
   "metadata": {
    "scrolled": true
   },
   "outputs": [
    {
     "name": "stdout",
     "output_type": "stream",
     "text": [
      "(88, 8)\n"
     ]
    },
    {
     "data": {
      "text/plain": [
       "<bound method NDFrame.head of     Stop ID Number Stop Abbreviation                           Stop Name  \\\n",
       "0             4418           MCC4_20     MUSIC CITY CENTRAL 4TH - BAY 20   \n",
       "1             4422            MCC5_6      MUSIC CITY CENTRAL 5TH - BAY 6   \n",
       "2             4249              21WE       21ST AVE PAST WEST END AVE SB   \n",
       "3             4184             MCSMJ  MUSIC CITY STAR MT. JULIET STATION   \n",
       "4             4425            MCC5_8      MUSIC CITY CENTRAL 5TH - BAY 8   \n",
       "..             ...               ...                                 ...   \n",
       "83            4185             MCSMS    MUSIC CITY STAR MARTHA'S STATION   \n",
       "84            4430            MCC5_7      MUSIC CITY CENTRAL 5TH - BAY 7   \n",
       "85            5053            DRCRPR            DRAKES CREEK PARK-N-RIDE   \n",
       "86            4249              21WE       21ST AVE PAST WEST END AVE SB   \n",
       "87            4431           MCC5_11     MUSIC CITY CENTRAL 5TH - BAY 11   \n",
       "\n",
       "    Bench  Shelter  Line Number               Line Name  \\\n",
       "0   False     True           94     CLARKSVILLE EXPRESS   \n",
       "1    True     True           94     CLARKSVILLE EXPRESS   \n",
       "2   False    False           87        GALLATIN EXPRESS   \n",
       "3    True     True           90         MUSIC CITY STAR   \n",
       "4   False     True           92  HENDERSONVILLE EXPRESS   \n",
       "..    ...      ...          ...                     ...   \n",
       "83   True     True           90         MUSIC CITY STAR   \n",
       "84   True     True           88         DICKSON EXPRESS   \n",
       "85  False    False           92  HENDERSONVILLE EXPRESS   \n",
       "86  False    False           92  HENDERSONVILLE EXPRESS   \n",
       "87  False     True           95     SPRING HILL EXPRESS   \n",
       "\n",
       "            Mapped Location  \n",
       "0   (36.166545, -86.781895)  \n",
       "1   (36.166501, -86.781233)  \n",
       "2   (36.149489, -86.800523)  \n",
       "3   (36.199912, -86.517904)  \n",
       "4   (36.166768, -86.781424)  \n",
       "..                      ...  \n",
       "83  (36.229824, -86.425658)  \n",
       "84  (36.166804, -86.781446)  \n",
       "85  (36.312976, -86.611232)  \n",
       "86  (36.149489, -86.800523)  \n",
       "87   (36.16659, -86.781996)  \n",
       "\n",
       "[88 rows x 8 columns]>"
      ]
     },
     "execution_count": 9,
     "metadata": {},
     "output_type": "execute_result"
    }
   ],
   "source": [
    "bus_stops = pd.read_csv(r\"C:\\Users\\Chris\\NSSFiles\\Python\\Projects\\nashville_scooters-panthers\\Bus_Stops.csv\")\n",
    "print(bus_stops.shape)\n",
    "bus_stops.head"
   ]
  },
  {
   "cell_type": "code",
   "execution_count": 10,
   "id": "c01bc4f1",
   "metadata": {},
   "outputs": [],
   "source": [
    "bus_stops[['Latitude','Longitude']] = bus_stops['Mapped Location'].str.split(\",\", expand=True)"
   ]
  },
  {
   "cell_type": "code",
   "execution_count": 11,
   "id": "2755ece6",
   "metadata": {},
   "outputs": [],
   "source": [
    "bus_stops['Latitude'] = bus_stops['Latitude'].str.strip(\"(\")\n",
    "bus_stops['Longitude'] = bus_stops['Longitude'].str.strip(\")\")"
   ]
  },
  {
   "cell_type": "code",
   "execution_count": 12,
   "id": "2ad318d1",
   "metadata": {},
   "outputs": [
    {
     "data": {
      "text/html": [
       "<div>\n",
       "<style scoped>\n",
       "    .dataframe tbody tr th:only-of-type {\n",
       "        vertical-align: middle;\n",
       "    }\n",
       "\n",
       "    .dataframe tbody tr th {\n",
       "        vertical-align: top;\n",
       "    }\n",
       "\n",
       "    .dataframe thead th {\n",
       "        text-align: right;\n",
       "    }\n",
       "</style>\n",
       "<table border=\"1\" class=\"dataframe\">\n",
       "  <thead>\n",
       "    <tr style=\"text-align: right;\">\n",
       "      <th></th>\n",
       "      <th>Stop ID Number</th>\n",
       "      <th>Stop Abbreviation</th>\n",
       "      <th>Stop Name</th>\n",
       "      <th>Bench</th>\n",
       "      <th>Shelter</th>\n",
       "      <th>Line Number</th>\n",
       "      <th>Line Name</th>\n",
       "      <th>Mapped Location</th>\n",
       "      <th>Latitude</th>\n",
       "      <th>Longitude</th>\n",
       "    </tr>\n",
       "  </thead>\n",
       "  <tbody>\n",
       "    <tr>\n",
       "      <th>0</th>\n",
       "      <td>4418</td>\n",
       "      <td>MCC4_20</td>\n",
       "      <td>MUSIC CITY CENTRAL 4TH - BAY 20</td>\n",
       "      <td>False</td>\n",
       "      <td>True</td>\n",
       "      <td>94</td>\n",
       "      <td>CLARKSVILLE EXPRESS</td>\n",
       "      <td>(36.166545, -86.781895)</td>\n",
       "      <td>36.166545</td>\n",
       "      <td>-86.781895</td>\n",
       "    </tr>\n",
       "    <tr>\n",
       "      <th>1</th>\n",
       "      <td>4422</td>\n",
       "      <td>MCC5_6</td>\n",
       "      <td>MUSIC CITY CENTRAL 5TH - BAY 6</td>\n",
       "      <td>True</td>\n",
       "      <td>True</td>\n",
       "      <td>94</td>\n",
       "      <td>CLARKSVILLE EXPRESS</td>\n",
       "      <td>(36.166501, -86.781233)</td>\n",
       "      <td>36.166501</td>\n",
       "      <td>-86.781233</td>\n",
       "    </tr>\n",
       "    <tr>\n",
       "      <th>2</th>\n",
       "      <td>4249</td>\n",
       "      <td>21WE</td>\n",
       "      <td>21ST AVE PAST WEST END AVE SB</td>\n",
       "      <td>False</td>\n",
       "      <td>False</td>\n",
       "      <td>87</td>\n",
       "      <td>GALLATIN EXPRESS</td>\n",
       "      <td>(36.149489, -86.800523)</td>\n",
       "      <td>36.149489</td>\n",
       "      <td>-86.800523</td>\n",
       "    </tr>\n",
       "  </tbody>\n",
       "</table>\n",
       "</div>"
      ],
      "text/plain": [
       "   Stop ID Number Stop Abbreviation                        Stop Name  Bench  \\\n",
       "0            4418           MCC4_20  MUSIC CITY CENTRAL 4TH - BAY 20  False   \n",
       "1            4422            MCC5_6   MUSIC CITY CENTRAL 5TH - BAY 6   True   \n",
       "2            4249              21WE    21ST AVE PAST WEST END AVE SB  False   \n",
       "\n",
       "   Shelter  Line Number            Line Name          Mapped Location  \\\n",
       "0     True           94  CLARKSVILLE EXPRESS  (36.166545, -86.781895)   \n",
       "1     True           94  CLARKSVILLE EXPRESS  (36.166501, -86.781233)   \n",
       "2    False           87     GALLATIN EXPRESS  (36.149489, -86.800523)   \n",
       "\n",
       "    Latitude    Longitude  \n",
       "0  36.166545   -86.781895  \n",
       "1  36.166501   -86.781233  \n",
       "2  36.149489   -86.800523  "
      ]
     },
     "execution_count": 12,
     "metadata": {},
     "output_type": "execute_result"
    }
   ],
   "source": [
    "# bus_stops['geometry'] = bus_stops.apply(lambda x: Point((float(x.Longitude),\n",
    "#                                                 float(x.Latitude))),\n",
    "#                                axis=1)\n",
    "bus_stops.head(3)"
   ]
  },
  {
   "cell_type": "code",
   "execution_count": 13,
   "id": "98a2d53b",
   "metadata": {},
   "outputs": [],
   "source": [
    "bus_stops[['Latitude','Longitude']]=bus_stops[['Latitude','Longitude']].astype(float)"
   ]
  },
  {
   "cell_type": "code",
   "execution_count": 14,
   "id": "e03ad898",
   "metadata": {
    "scrolled": true
   },
   "outputs": [],
   "source": [
    "trips=trips[trips['tripdistance']<=5280]"
   ]
  },
  {
   "cell_type": "code",
   "execution_count": 15,
   "id": "24a4c4df",
   "metadata": {},
   "outputs": [],
   "source": [
    "trips.drop_duplicates(subset=['triprecordnum','sumdid'],inplace=True)"
   ]
  },
  {
   "cell_type": "code",
   "execution_count": 16,
   "id": "6d990759",
   "metadata": {},
   "outputs": [],
   "source": [
    "bus_stops.drop_duplicates(subset=['Stop ID Number','Stop Abbreviation'],inplace=True)"
   ]
  },
  {
   "cell_type": "code",
   "execution_count": 17,
   "id": "80f635e5",
   "metadata": {},
   "outputs": [
    {
     "name": "stdout",
     "output_type": "stream",
     "text": [
      "<class 'pandas.core.frame.DataFrame'>\n",
      "Int64Index: 307429 entries, 2 to 485219\n",
      "Data columns (total 17 columns):\n",
      " #   Column          Non-Null Count   Dtype  \n",
      "---  ------          --------------   -----  \n",
      " 0   triptime_mins   307429 non-null  int64  \n",
      " 1   pubtimestamp    307429 non-null  object \n",
      " 2   companyname     307429 non-null  object \n",
      " 3   triprecordnum   307429 non-null  object \n",
      " 4   sumdid          307429 non-null  object \n",
      " 5   tripduration    307429 non-null  float64\n",
      " 6   tripdistance    307429 non-null  float64\n",
      " 7   startdate       307429 non-null  object \n",
      " 8   starttime       307429 non-null  object \n",
      " 9   enddate         307429 non-null  object \n",
      " 10  endtime         307429 non-null  object \n",
      " 11  startlatitude   307429 non-null  float64\n",
      " 12  startlongitude  307429 non-null  float64\n",
      " 13  endlatitude     307429 non-null  float64\n",
      " 14  endlongitude    307429 non-null  float64\n",
      " 15  triproute       307429 non-null  object \n",
      " 16  create_dt       307429 non-null  object \n",
      "dtypes: float64(6), int64(1), object(10)\n",
      "memory usage: 42.2+ MB\n"
     ]
    }
   ],
   "source": [
    "trips.info()"
   ]
  },
  {
   "cell_type": "code",
   "execution_count": 18,
   "id": "b28fa102",
   "metadata": {},
   "outputs": [],
   "source": [
    "def Haversine(lat1:float,lon1:float,lat2:float,lon2:float):\n",
    "\n",
    "    R=20925721.78 #radius in feet\n",
    "    \n",
    "    latr1 = radians(lat1)\n",
    "    lonr1 = radians(lon1)\n",
    "    latr2 = radians(lat2)\n",
    "    lonr2 = radians(lon2)\n",
    "    \n",
    "    dlon = lonr2-lonr1\n",
    "    dlat = latr2-latr1\n",
    "   \n",
    "    a = (sin(dlat / 2)**2) + (cos(latr1)) * (cos(latr2)) * (sin(dlon / 2)**2)\n",
    "    c =2 * asin(sqrt(a))\n",
    "    dist= R * c\n",
    "    \n",
    "    return dist\n"
   ]
  },
  {
   "cell_type": "code",
   "execution_count": 19,
   "id": "147b1356",
   "metadata": {},
   "outputs": [
    {
     "name": "stderr",
     "output_type": "stream",
     "text": [
      "C:\\Users\\17046\\AppData\\Local\\Temp\\ipykernel_8228\\263387538.py:2: FutureWarning: Using short name for 'orient' is deprecated. Only the options: ('dict', list, 'series', 'split', 'records', 'index') will be used in a future version. Use one of the above to silence this warning.\n",
      "  stops_dict = bus_stops.to_dict('records2')\n"
     ]
    }
   ],
   "source": [
    "trips_dict = trips.to_dict('records')\n",
    "stops_dict = bus_stops.to_dict('records2')\n",
    "\n",
    "last_mile = []\n",
    "\n",
    "for r in trips_dict:\n",
    "    for row in stops_dict:\n",
    "        dist1=Haversine(r['startlatitude'],r['startlongitude'],row['Latitude'],row['Longitude'])\n",
    "        dist2=Haversine(r['endlatitude'],r['endlongitude'],row['Latitude'],row['Longitude'])\n",
    "        if dist1 <=250:\n",
    "            temp_dict = {\n",
    "                'Bus Stop':row['Stop ID Number'],\n",
    "                'Trip ID' :r['triprecordnum'],\n",
    "                'Scooter ID':r['sumdid'],\n",
    "                'StartLat':r['startlatitude'],\n",
    "                'StartLong':r['startlongitude'],\n",
    "                'Start to Bus':dist1\n",
    "            }\n",
    "            last_mile.append(temp_dict)\n",
    "\n",
    "        if dist2 <=250:\n",
    "            temp_dict = {\n",
    "                'Bus Stop':row['Stop ID Number'],\n",
    "                'Trip ID':r['triprecordnum'],\n",
    "                'Scooter ID':r['sumdid'],\n",
    "                'EndLat':r['endlatitude'],\n",
    "                'EndLong':r['endlongitude'],\n",
    "                'End To Bus':dist2\n",
    "            }\n",
    "            last_mile.append(temp_dict)\n",
    "        bus_stop += 1\n",
    "                \n",
    "       \n",
    "            \n"
   ]
  },
  {
   "cell_type": "code",
   "execution_count": 20,
   "id": "11c11c71",
   "metadata": {},
   "outputs": [],
   "source": [
    "trips_complete = pd.DataFrame(last_mile)\n",
    "trips_complete.to_csv('Trips_Complete_Final_Fantasy.csv')"
   ]
  },
  {
   "cell_type": "code",
   "execution_count": null,
   "id": "68a70ac5",
   "metadata": {},
   "outputs": [],
   "source": []
  }
 ],
 "metadata": {
  "kernelspec": {
   "display_name": "Python 3 (ipykernel)",
   "language": "python",
   "name": "python3"
  },
  "language_info": {
   "codemirror_mode": {
    "name": "ipython",
    "version": 3
   },
   "file_extension": ".py",
   "mimetype": "text/x-python",
   "name": "python",
   "nbconvert_exporter": "python",
   "pygments_lexer": "ipython3",
   "version": "3.8.5"
  }
 },
 "nbformat": 4,
 "nbformat_minor": 5
}
